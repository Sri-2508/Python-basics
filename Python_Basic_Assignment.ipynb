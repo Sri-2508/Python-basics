{
  "nbformat": 4,
  "nbformat_minor": 0,
  "metadata": {
    "colab": {
      "provenance": []
    },
    "kernelspec": {
      "name": "python3",
      "display_name": "Python 3"
    },
    "language_info": {
      "name": "python"
    }
  },
  "cells": [
    {
      "cell_type": "code",
      "execution_count": null,
      "metadata": {
        "id": "cjGD-MUJ7Wix"
      },
      "outputs": [],
      "source": []
    },
    {
      "cell_type": "markdown",
      "source": [
        "1. What is Python, and why is it popular\n",
        "  -Python is a high- level , general purpose programming language known for its simplicity, readbilityand versatility. It helps developes to express the concept in fewer lines of code compared to other programming language.\n",
        "  It is so popular because\n",
        "  a)Beginner friendly- easy syntax\n",
        "  b)Versatile use cases\n",
        "  c)strong community support\n",
        "  d)cross platform compatibility\n",
        "  e)integration copabilities\n",
        "  ex- google, NASA etc.\n",
        "2. What is an interpreter in Python\n",
        "  -A python interpreter executes python code line by line. it makes python easy to test, debug and run interactively\n",
        "  ex-cPython\n",
        "  text\n",
        "        source code(.py)\n",
        "             |\n",
        "        tokenizer(lexical analysis)\n",
        "             |\n",
        "         parser(syntax tree)\n",
        "             |\n",
        "        compiler(bytecode.pyc)\n",
        "             |\n",
        "        python virtual machine(execution)\n",
        "\n",
        "3. What are pre-defined keywords in Python\n",
        "   -Pre -defined keywords in python are reserved words that have special meaning to interprete. you cannot use them as variable names, function names or identifiers. they are part of core syntax and are used to define the structure and logic of python program.\n",
        "        keywords                        purpose\n",
        "      a)if, else, elif              conditional statement\n",
        "      b)for, while, break           loop and control flow\n",
        "      c)true, false, none           special constants\n",
        "\n",
        "4.  Can keywords be used as variable names\n",
        "    - no keywords cannot be used as variable name in most programming language, including python , java, c and others because keywords are reserved words that are part of the language syntax and have pre defined meaning\n",
        "    \n",
        "\n",
        "        \n",
        "          "
      ],
      "metadata": {
        "id": "R12WxvSS83FD"
      }
    },
    {
      "cell_type": "code",
      "source": [
        "if=5\n"
      ],
      "metadata": {
        "colab": {
          "base_uri": "https://localhost:8080/",
          "height": 106
        },
        "id": "xs0jq0m1LTXe",
        "outputId": "9a2fed76-1504-4757-db40-060ed31b3f96"
      },
      "execution_count": 1,
      "outputs": [
        {
          "output_type": "error",
          "ename": "SyntaxError",
          "evalue": "invalid syntax (ipython-input-1-3149698871.py, line 1)",
          "traceback": [
            "\u001b[0;36m  File \u001b[0;32m\"/tmp/ipython-input-1-3149698871.py\"\u001b[0;36m, line \u001b[0;32m1\u001b[0m\n\u001b[0;31m    if=5\u001b[0m\n\u001b[0m      ^\u001b[0m\n\u001b[0;31mSyntaxError\u001b[0m\u001b[0;31m:\u001b[0m invalid syntax\n"
          ]
        }
      ]
    },
    {
      "cell_type": "markdown",
      "source": [
        "if is a keyword used to write conditional statements so it can't be used as a variable name.\n"
      ],
      "metadata": {
        "id": "t5AHK_HcLk_F"
      }
    },
    {
      "cell_type": "code",
      "source": [
        "my_if = 5\n"
      ],
      "metadata": {
        "id": "qDBcEMFfNqfU"
      },
      "execution_count": 4,
      "outputs": []
    },
    {
      "cell_type": "markdown",
      "source": [
        "python allows trailing underscore to avoid keyword conflict.\n"
      ],
      "metadata": {
        "id": "aPDUvtyTOUlL"
      }
    },
    {
      "cell_type": "markdown",
      "source": [
        "5. What is mutability in Python\n",
        "  -mutable objects can be changed in place . this means their content (elements, values, etc) can be modified without creating a new project.\n",
        "  "
      ],
      "metadata": {
        "id": "i816tGiUO68k"
      }
    },
    {
      "cell_type": "markdown",
      "source": [
        "ex- list, dict(dictionary), set, bytearray."
      ],
      "metadata": {
        "id": "tulx2KKmPj-E"
      }
    },
    {
      "cell_type": "code",
      "source": [
        "my_list=[1,2,3]\n",
        "my_list[0]=10\n",
        "print(my_list)"
      ],
      "metadata": {
        "colab": {
          "base_uri": "https://localhost:8080/"
        },
        "id": "N5rMsRyYPgnw",
        "outputId": "e1dc812f-6e39-4a35-aef3-42a782c9b80c"
      },
      "execution_count": 5,
      "outputs": [
        {
          "output_type": "stream",
          "name": "stdout",
          "text": [
            "[10, 2, 3]\n"
          ]
        }
      ]
    },
    {
      "cell_type": "markdown",
      "source": [
        "the list was changed- it's mutable\n"
      ],
      "metadata": {
        "id": "-r2PlhoRP9Qu"
      }
    },
    {
      "cell_type": "markdown",
      "source": [
        "6. Why are lists mutable, but tuples are immutable\n",
        "  -list are mutable\n",
        "  a) list can be changed after it is created.\n",
        "  b) You can add, remove, or modify elements."
      ],
      "metadata": {
        "id": "qx2FSML_QHYv"
      }
    },
    {
      "cell_type": "code",
      "source": [
        "my_list = [1, 2, 3]\n",
        "my_list[0] = 10\n",
        "my_list.append(4)"
      ],
      "metadata": {
        "id": "y6XxC_wZQ6y5"
      },
      "execution_count": 6,
      "outputs": []
    },
    {
      "cell_type": "markdown",
      "source": [
        "tuples are immutable\n",
        "a)A tuple cannot be changed after it is created.\n",
        "b)You cannot add, remove, or modify elements."
      ],
      "metadata": {
        "id": "BxLFSaT1Q-7h"
      }
    },
    {
      "cell_type": "code",
      "source": [
        "my_tuple = (1, 2, 3)\n",
        "my_tuple[0]=10"
      ],
      "metadata": {
        "colab": {
          "base_uri": "https://localhost:8080/",
          "height": 158
        },
        "id": "bAALF2OxRU0_",
        "outputId": "2563aa5e-778f-4be5-cd33-5661659942d5"
      },
      "execution_count": 7,
      "outputs": [
        {
          "output_type": "error",
          "ename": "TypeError",
          "evalue": "'tuple' object does not support item assignment",
          "traceback": [
            "\u001b[0;31m---------------------------------------------------------------------------\u001b[0m",
            "\u001b[0;31mTypeError\u001b[0m                                 Traceback (most recent call last)",
            "\u001b[0;32m/tmp/ipython-input-7-2045098528.py\u001b[0m in \u001b[0;36m<cell line: 0>\u001b[0;34m()\u001b[0m\n\u001b[1;32m      1\u001b[0m \u001b[0mmy_tuple\u001b[0m \u001b[0;34m=\u001b[0m \u001b[0;34m(\u001b[0m\u001b[0;36m1\u001b[0m\u001b[0;34m,\u001b[0m \u001b[0;36m2\u001b[0m\u001b[0;34m,\u001b[0m \u001b[0;36m3\u001b[0m\u001b[0;34m)\u001b[0m\u001b[0;34m\u001b[0m\u001b[0;34m\u001b[0m\u001b[0m\n\u001b[0;32m----> 2\u001b[0;31m \u001b[0mmy_tuple\u001b[0m\u001b[0;34m[\u001b[0m\u001b[0;36m0\u001b[0m\u001b[0;34m]\u001b[0m\u001b[0;34m=\u001b[0m\u001b[0;36m10\u001b[0m\u001b[0;34m\u001b[0m\u001b[0;34m\u001b[0m\u001b[0m\n\u001b[0m",
            "\u001b[0;31mTypeError\u001b[0m: 'tuple' object does not support item assignment"
          ]
        }
      ]
    },
    {
      "cell_type": "markdown",
      "source": [],
      "metadata": {
        "id": "IQ6uMcPoRqK5"
      }
    },
    {
      "cell_type": "markdown",
      "source": [
        ".Lists are mutable because they are used where you expect the data to change.\n",
        "\n",
        ".Tuples are immutable to protect fixed data and allow them to be used as      dictionary keys or set elements.\n"
      ],
      "metadata": {
        "id": "UgVdFUbORthr"
      }
    },
    {
      "cell_type": "markdown",
      "source": [],
      "metadata": {
        "id": "iPFZCRCHSDm-"
      }
    },
    {
      "cell_type": "markdown",
      "source": [
        "7. What is the difference between “==” and “is” operators in Python\n",
        "   \"==\"equality operator\n",
        "   a)Checks whether two values are equal.\n",
        "   b)Compares the contents (values) of two objects.\n",
        "   c)works with all data type-number, string, list etc."
      ],
      "metadata": {
        "id": "xdjjIBsySOYX"
      }
    },
    {
      "cell_type": "code",
      "source": [
        "a = [1, 2, 3]\n",
        "b = [1, 2, 3]\n",
        "\n",
        "print(a == b)"
      ],
      "metadata": {
        "colab": {
          "base_uri": "https://localhost:8080/"
        },
        "id": "eZcxf99MTKXM",
        "outputId": "a0be4dbe-bad5-4425-b3e0-6c99d6048d4b"
      },
      "execution_count": 8,
      "outputs": [
        {
          "output_type": "stream",
          "name": "stdout",
          "text": [
            "True\n"
          ]
        }
      ]
    },
    {
      "cell_type": "markdown",
      "source": [
        "\"is\" identity operator\n",
        "a)Checks whether two variables point to the same object in memory.\n",
        "b)returns true only if both variable reference the exact same object.\n",
        "c)often uswd for comparing with none( if x is none)."
      ],
      "metadata": {
        "id": "rd8N5tPOTTFw"
      }
    },
    {
      "cell_type": "code",
      "source": [
        "a = [1, 2, 3]\n",
        "b = [1, 2, 3]\n",
        "\n",
        "print(a is b)"
      ],
      "metadata": {
        "colab": {
          "base_uri": "https://localhost:8080/"
        },
        "id": "7Cabd9d6UE7B",
        "outputId": "be822dba-dd81-44d0-c531-437de3d35266"
      },
      "execution_count": 9,
      "outputs": [
        {
          "output_type": "stream",
          "name": "stdout",
          "text": [
            "False\n"
          ]
        }
      ]
    },
    {
      "cell_type": "markdown",
      "source": [
        "8.What are logical operators in Python\n",
        "-Logical operators in Python are used to combine or invert boolean expressions. They return either True or False, based on the logic of the expression.\n"
      ],
      "metadata": {
        "id": "4mmC5hb3UQri"
      }
    },
    {
      "cell_type": "code",
      "source": [
        "a = True\n",
        "b = False\n",
        "\n",
        "print(a and b)\n",
        "print(a or b)\n",
        "print(not a)"
      ],
      "metadata": {
        "colab": {
          "base_uri": "https://localhost:8080/"
        },
        "id": "d3EP_D2eUxWq",
        "outputId": "10a1771d-4ebf-4bad-fdea-75ab76e91542"
      },
      "execution_count": 10,
      "outputs": [
        {
          "output_type": "stream",
          "name": "stdout",
          "text": [
            "False\n",
            "True\n",
            "False\n"
          ]
        }
      ]
    },
    {
      "cell_type": "markdown",
      "source": [
        "AND Operator- returns true only if both operand is true.\n",
        "OR Operator- returns true if atleast one operand is true.\n",
        "NOT Operator- inverts the boolean value( true-> false, vice- versa).\n"
      ],
      "metadata": {
        "id": "7-1NL5X6VLzr"
      }
    },
    {
      "cell_type": "markdown",
      "source": [
        "9.What is type casting in Python\n",
        "-Type casting (also called type conversion) in Python means converting a value from one data type to another.\n",
        "ex- from a string to an integer, from a float to a string."
      ],
      "metadata": {
        "id": "J4NWqCjoVxrB"
      }
    },
    {
      "cell_type": "code",
      "source": [
        "x = \"10\"\n",
        "print(int(x))\n",
        "print(float(x))"
      ],
      "metadata": {
        "colab": {
          "base_uri": "https://localhost:8080/"
        },
        "id": "ZwkFRMUYWqhd",
        "outputId": "38180c9c-73ae-4eac-e498-b5d8886bf7fb"
      },
      "execution_count": 11,
      "outputs": [
        {
          "output_type": "stream",
          "name": "stdout",
          "text": [
            "10\n",
            "10.0\n"
          ]
        }
      ]
    },
    {
      "cell_type": "markdown",
      "source": [
        "10. What is the difference between implicit and explicit type casting\n",
        "- implicit\n",
        "a)Automatically done by Python\n",
        "b)Happens when mixing data types in expressions\n",
        "c)Python converts the smaller/less general type to a larger/more general one to avoid data loss."
      ],
      "metadata": {
        "id": "yuvr38k8Wx5v"
      }
    },
    {
      "cell_type": "code",
      "source": [
        "a = 5       # int\n",
        "b = 2.0     # float\n",
        "c = a + b\n",
        "print(c)"
      ],
      "metadata": {
        "colab": {
          "base_uri": "https://localhost:8080/"
        },
        "id": "ThoNfwQYXkP6",
        "outputId": "3838e8f4-9f9d-454c-e59d-8057b509a5e7"
      },
      "execution_count": 12,
      "outputs": [
        {
          "output_type": "stream",
          "name": "stdout",
          "text": [
            "7.0\n"
          ]
        }
      ]
    },
    {
      "cell_type": "markdown",
      "source": [
        "- explicit\n",
        "a)Manually done by the programmer\n",
        "b)You use functions like int(), float(), str(), etc.\n",
        "c)Required when you want full control over the conversion."
      ],
      "metadata": {
        "id": "D5rpb0IRXr5X"
      }
    },
    {
      "cell_type": "code",
      "source": [
        "x = \"10\"\n",
        "y = int(x)   # explicitly casting string to int\n",
        "print(y + 5)"
      ],
      "metadata": {
        "colab": {
          "base_uri": "https://localhost:8080/"
        },
        "id": "L5w4BQ4CX-U4",
        "outputId": "c798fd41-9168-4a56-cccd-2818ef10aee1"
      },
      "execution_count": 13,
      "outputs": [
        {
          "output_type": "stream",
          "name": "stdout",
          "text": [
            "15\n"
          ]
        }
      ]
    },
    {
      "cell_type": "markdown",
      "source": [
        "11. What is the purpose of conditional statements in Python\n",
        "- it allows your program to make decision and execute certain blocks of code on specific condition.\n",
        "Statement\t                             Purpose\n",
        " if\t                        Executes a block if the condition is True,\n",
        " elif\t                      Adds more conditions if if is False,\n",
        " else\t                      Runs if no if or elif condition is True."
      ],
      "metadata": {
        "id": "w0W4VqU9YK2m"
      }
    },
    {
      "cell_type": "code",
      "source": [
        "age =18\n",
        "if age >= 18:\n",
        "  print(\"you are adult\")"
      ],
      "metadata": {
        "colab": {
          "base_uri": "https://localhost:8080/"
        },
        "id": "hS60YTMEZGtQ",
        "outputId": "f8d70cdb-0da6-498c-83d2-6d6df1c6445d"
      },
      "execution_count": 24,
      "outputs": [
        {
          "output_type": "stream",
          "name": "stdout",
          "text": [
            "you are adult\n"
          ]
        }
      ]
    },
    {
      "cell_type": "code",
      "source": [
        "age = 18\n",
        "if age >= 18:\n",
        "  print(\"you are adult\")\n",
        "\n",
        "else:\n",
        "\n",
        "  print(\"you are minor\")"
      ],
      "metadata": {
        "colab": {
          "base_uri": "https://localhost:8080/"
        },
        "id": "hM0NQd4baxAH",
        "outputId": "1327631c-573f-4f6a-fa31-56a47a304195"
      },
      "execution_count": 29,
      "outputs": [
        {
          "output_type": "stream",
          "name": "stdout",
          "text": [
            "you are adult\n"
          ]
        }
      ]
    },
    {
      "cell_type": "code",
      "source": [
        "if a < 13:\n",
        "  print(\"child\")\n",
        "elif age < 18:\n",
        "  print(\"teenager\")\n",
        "else:\n",
        "  print(\"adult\")"
      ],
      "metadata": {
        "colab": {
          "base_uri": "https://localhost:8080/"
        },
        "id": "zXUPM55-bkLK",
        "outputId": "da71c1c6-4d7e-4b86-f27f-e915ec81b58d"
      },
      "execution_count": 30,
      "outputs": [
        {
          "output_type": "stream",
          "name": "stdout",
          "text": [
            "child\n"
          ]
        }
      ]
    },
    {
      "cell_type": "markdown",
      "source": [
        "12. How does the elif statement work\n",
        "-it checks multiple conditions in sequence . it allowsyour program to evaluate several conditions one by one, and execute the block of code for the first condition is true."
      ],
      "metadata": {
        "id": "8h4I9NJucBV0"
      }
    },
    {
      "cell_type": "code",
      "source": [
        "temp = 25\n",
        "if temp > 30:\n",
        "  print(\"it's hot\")\n",
        "elif temp > 20:\n",
        "  print(\"it's warm\")\n",
        "elif temp > 10:\n",
        "  print(\"it's cool\")\n",
        "else:\n",
        "  print(\"it's cold\")"
      ],
      "metadata": {
        "colab": {
          "base_uri": "https://localhost:8080/"
        },
        "id": "DBkKThqfchlF",
        "outputId": "09fd8172-4542-4923-89cc-87292c71429e"
      },
      "execution_count": 31,
      "outputs": [
        {
          "output_type": "stream",
          "name": "stdout",
          "text": [
            "it's warm\n"
          ]
        }
      ]
    },
    {
      "cell_type": "markdown",
      "source": [
        "13. What is the difference between for and while loop\n",
        "- for loop\n",
        "a)Use case-When you know how many times to loop,\n",
        "b)Structure- Iterates over a sequence (list, range, etc.),\n",
        "c)Controlled -by\tSequence or range"
      ],
      "metadata": {
        "id": "pVrtUPG4dIrA"
      }
    },
    {
      "cell_type": "code",
      "source": [
        "for i in range(5):\n",
        "    print(i)"
      ],
      "metadata": {
        "colab": {
          "base_uri": "https://localhost:8080/"
        },
        "id": "XAVx68mqeIKy",
        "outputId": "b67020de-34ec-44f8-cce6-b6519451f98d"
      },
      "execution_count": 32,
      "outputs": [
        {
          "output_type": "stream",
          "name": "stdout",
          "text": [
            "0\n",
            "1\n",
            "2\n",
            "3\n",
            "4\n"
          ]
        }
      ]
    },
    {
      "cell_type": "markdown",
      "source": [
        "Loops 5 times — clearly defined\n"
      ],
      "metadata": {
        "id": "9vlgNczReKSy"
      }
    },
    {
      "cell_type": "markdown",
      "source": [
        "- while loop\n",
        "a)Use case- When you loop until a condition is false,\n",
        "b)Structure- Repeats as long as a condition is True,\n",
        "c)Controlled by- Condition,\n"
      ],
      "metadata": {
        "id": "11i1B-voeOw6"
      }
    },
    {
      "cell_type": "code",
      "source": [
        "count = 0\n",
        "while count < 5:\n",
        "    print(count)\n",
        "    count += 1"
      ],
      "metadata": {
        "colab": {
          "base_uri": "https://localhost:8080/"
        },
        "id": "71N7OdLBe01Y",
        "outputId": "7ec63dee-2654-43c7-fefe-88ffa2ff0776"
      },
      "execution_count": 33,
      "outputs": [
        {
          "output_type": "stream",
          "name": "stdout",
          "text": [
            "0\n",
            "1\n",
            "2\n",
            "3\n",
            "4\n"
          ]
        }
      ]
    },
    {
      "cell_type": "markdown",
      "source": [
        "Loops until the condition count < 5 becomes False"
      ],
      "metadata": {
        "id": "DpJ8GXfJe5M2"
      }
    },
    {
      "cell_type": "markdown",
      "source": [
        "14. Describe a scenario where a while loop is more suitable than a for loop\n",
        "- a while loop is more suitable than a for loop when you don't know in advance how many times the loop needs to run - it should continue until a certain condition is met."
      ],
      "metadata": {
        "id": "zAqvqAHYfDq_"
      }
    },
    {
      "cell_type": "code",
      "source": [
        "correct_password = \"admin123\"\n",
        "user_input = input(\"Enter password:\")\n",
        "\n",
        "while user_input != correct_password:\n",
        "    user_input = input(\"Enter password: \")\n",
        "\n",
        "print(\"Access granted!\")"
      ],
      "metadata": {
        "colab": {
          "base_uri": "https://localhost:8080/"
        },
        "id": "_tA2VNUUgCJq",
        "outputId": "d265732a-ce90-4d62-eae4-64efd6901737"
      },
      "execution_count": 43,
      "outputs": [
        {
          "output_type": "stream",
          "name": "stdout",
          "text": [
            "Enter password:admin123\n",
            "Access granted!\n"
          ]
        }
      ]
    },
    {
      "cell_type": "markdown",
      "source": [
        "Practical Questions\n",
        "1. Write a Python program to print \"Hello, World!"
      ],
      "metadata": {
        "id": "hWk6X4wIhNL4"
      }
    },
    {
      "cell_type": "code",
      "source": [
        "print(\"Hello,World!\")"
      ],
      "metadata": {
        "colab": {
          "base_uri": "https://localhost:8080/"
        },
        "id": "gfC7oMsthYHC",
        "outputId": "407398b0-96c8-4825-8192-d89212868a89"
      },
      "execution_count": 44,
      "outputs": [
        {
          "output_type": "stream",
          "name": "stdout",
          "text": [
            "Hello,World!\n"
          ]
        }
      ]
    },
    {
      "cell_type": "markdown",
      "source": [
        "2. Write a Python program that displays your name and age\n",
        ""
      ],
      "metadata": {
        "id": "Fdn1pNZGhiQV"
      }
    },
    {
      "cell_type": "code",
      "source": [
        "name = \"abc\"\n",
        "age = 20\n",
        "print(\"My name is\", name)\n",
        "print(\"I am 20 year old\")"
      ],
      "metadata": {
        "colab": {
          "base_uri": "https://localhost:8080/"
        },
        "id": "oKCu-ATwhnHE",
        "outputId": "d26b90d2-e8cc-4d30-8837-6333d2877294"
      },
      "execution_count": 46,
      "outputs": [
        {
          "output_type": "stream",
          "name": "stdout",
          "text": [
            "My name is abc\n",
            "I am 20 year old\n"
          ]
        }
      ]
    },
    {
      "cell_type": "markdown",
      "source": [
        "3. Write code to print all the pre-defined keywords in Python using the keyword library"
      ],
      "metadata": {
        "id": "FqqN1DR1iPhX"
      }
    },
    {
      "cell_type": "code",
      "source": [
        "import keyword\n",
        "keywords = keyword.kwlist\n",
        "print(\"Python Keywords:\\n\")\n",
        "for kw in keywords:\n",
        "    print(kw)\n"
      ],
      "metadata": {
        "colab": {
          "base_uri": "https://localhost:8080/"
        },
        "id": "v-UGHqaYiYz3",
        "outputId": "be22baf9-c676-4035-8133-9da35619e86b"
      },
      "execution_count": 47,
      "outputs": [
        {
          "output_type": "stream",
          "name": "stdout",
          "text": [
            "Python Keywords:\n",
            "\n",
            "False\n",
            "None\n",
            "True\n",
            "and\n",
            "as\n",
            "assert\n",
            "async\n",
            "await\n",
            "break\n",
            "class\n",
            "continue\n",
            "def\n",
            "del\n",
            "elif\n",
            "else\n",
            "except\n",
            "finally\n",
            "for\n",
            "from\n",
            "global\n",
            "if\n",
            "import\n",
            "in\n",
            "is\n",
            "lambda\n",
            "nonlocal\n",
            "not\n",
            "or\n",
            "pass\n",
            "raise\n",
            "return\n",
            "try\n",
            "while\n",
            "with\n",
            "yield\n"
          ]
        }
      ]
    },
    {
      "cell_type": "markdown",
      "source": [
        "4. Write a program that checks if a given word is a Python keyword"
      ],
      "metadata": {
        "id": "9mccaR47ik7C"
      }
    },
    {
      "cell_type": "code",
      "source": [
        "import keyword\n",
        "word = input(\"enter a word:\")\n",
        "if keyword.iskeyword(word):\n",
        "  print(f\"{word} is a python keyword\")\n",
        "else:\n",
        "  print(f\"{word} is not a keyword\")"
      ],
      "metadata": {
        "colab": {
          "base_uri": "https://localhost:8080/"
        },
        "id": "Glcak7YsJWDs",
        "outputId": "06f55a2a-b935-41c1-ce67-cbc86aa0947e"
      },
      "execution_count": 11,
      "outputs": [
        {
          "output_type": "stream",
          "name": "stdout",
          "text": [
            "enter a word:try\n",
            "try is a python keyword\n"
          ]
        }
      ]
    },
    {
      "cell_type": "code",
      "source": [
        "import keyword\n",
        "word = input(\"enter a word:\")\n",
        "if keyword.iskeyword(word):\n",
        "  print(f\"{word} is a python keyword\")\n",
        "else:\n",
        "  print(f\"{word} is not a keyword\")"
      ],
      "metadata": {
        "colab": {
          "base_uri": "https://localhost:8080/"
        },
        "id": "wk-lI18LKMJQ",
        "outputId": "c4563ea7-b917-4ac8-cd21-64f511da01b0"
      },
      "execution_count": 12,
      "outputs": [
        {
          "output_type": "stream",
          "name": "stdout",
          "text": [
            "enter a word:hello\n",
            "hello is not a keyword\n"
          ]
        }
      ]
    },
    {
      "cell_type": "markdown",
      "source": [
        "5. Create a list and tuple in Python, and demonstrate how attempting to change an element works differently\n",
        "for each"
      ],
      "metadata": {
        "id": "PpurliakKXFt"
      }
    },
    {
      "cell_type": "code",
      "source": [
        "my_list=[51,2,3]\n",
        "my_list[0]= 1\n",
        "print(my_list)"
      ],
      "metadata": {
        "colab": {
          "base_uri": "https://localhost:8080/"
        },
        "id": "ejhVe6MYKfqA",
        "outputId": "2d739c01-237a-4c92-ca7f-22d28b89c205"
      },
      "execution_count": 13,
      "outputs": [
        {
          "output_type": "stream",
          "name": "stdout",
          "text": [
            "[1, 2, 3]\n"
          ]
        }
      ]
    },
    {
      "cell_type": "markdown",
      "source": [
        "list allows the change"
      ],
      "metadata": {
        "id": "M48V9WIyK0OU"
      }
    },
    {
      "cell_type": "code",
      "source": [
        "my_tuple=(1,2,3)\n",
        "my_tuple(1)=200\n",
        "print(my_tuple)"
      ],
      "metadata": {
        "colab": {
          "base_uri": "https://localhost:8080/",
          "height": 106
        },
        "id": "jzLNeg8oK4l8",
        "outputId": "64009f02-19cf-4260-f9fe-79bca2c2fa60"
      },
      "execution_count": 16,
      "outputs": [
        {
          "output_type": "error",
          "ename": "SyntaxError",
          "evalue": "cannot assign to function call here. Maybe you meant '==' instead of '='? (ipython-input-16-3859021423.py, line 2)",
          "traceback": [
            "\u001b[0;36m  File \u001b[0;32m\"/tmp/ipython-input-16-3859021423.py\"\u001b[0;36m, line \u001b[0;32m2\u001b[0m\n\u001b[0;31m    my_tuple(1)=200\u001b[0m\n\u001b[0m    ^\u001b[0m\n\u001b[0;31mSyntaxError\u001b[0m\u001b[0;31m:\u001b[0m cannot assign to function call here. Maybe you meant '==' instead of '='?\n"
          ]
        }
      ]
    },
    {
      "cell_type": "markdown",
      "source": [
        "tuple object does not support item assignment"
      ],
      "metadata": {
        "id": "7qfjUho5LZ27"
      }
    },
    {
      "cell_type": "markdown",
      "source": [
        "6. Write a function to demonstrate the behavior of mutable and immutable arguments.\n"
      ],
      "metadata": {
        "id": "TwFynJ3-LxgE"
      }
    },
    {
      "cell_type": "code",
      "source": [
        "def modify_data(num, items):\n",
        "    num += 10\n",
        "    items.append(4)\n",
        "\n",
        "    print(\"Inside function:\")\n",
        "    print(\"Number:\", num)\n",
        "    print(\"List:\", items)\n",
        "\n",
        "\n",
        "number = 5\n",
        "\n",
        "my_list = [1, 2, 3]\n",
        "\n",
        "modify_data(number, my_list)\n",
        "\n",
        "print(\"\\nOutside function:\")\n",
        "print(\"Number:\", number)\n",
        "print(\"List:\", my_list)\n"
      ],
      "metadata": {
        "colab": {
          "base_uri": "https://localhost:8080/"
        },
        "id": "uCoW0sCiOBQt",
        "outputId": "2935296e-427b-4a4f-e04a-8e3ba65fcceb"
      },
      "execution_count": 25,
      "outputs": [
        {
          "output_type": "stream",
          "name": "stdout",
          "text": [
            "Inside function:\n",
            "Number: 15\n",
            "List: [1, 2, 3, 4]\n",
            "\n",
            "Outside function:\n",
            "Number: 5\n",
            "List: [1, 2, 3, 4]\n"
          ]
        }
      ]
    },
    {
      "cell_type": "markdown",
      "source": [
        "7. Write a program that performs basic arithmetic operations on two user-input numbers."
      ],
      "metadata": {
        "id": "WKNvTPypOqjX"
      }
    },
    {
      "cell_type": "code",
      "source": [
        "\n",
        "a = float(input(\"Enter first number: \"))\n",
        "b = float(input(\"Enter second number: \"))\n",
        "print(\"\\nResults:\")\n",
        "print(\"Addition:       \", a + b)\n",
        "print(\"Subtraction:    \", a - b)\n",
        "print(\"Multiplication: \", a * b)\n",
        "if b != 0:\n",
        "    print(\"Division:       \", a / b)\n",
        "else:\n",
        "    print(\"Division:       Cannot divide by zero\")\n"
      ],
      "metadata": {
        "colab": {
          "base_uri": "https://localhost:8080/"
        },
        "id": "myGT1V4UP7YF",
        "outputId": "88aab37c-0faf-402b-e1e8-4fdf3576e196"
      },
      "execution_count": 29,
      "outputs": [
        {
          "output_type": "stream",
          "name": "stdout",
          "text": [
            "Enter first number: 10\n",
            "Enter second number: 5\n",
            "\n",
            "Results:\n",
            "Addition:        15.0\n",
            "Subtraction:     5.0\n",
            "Multiplication:  50.0\n",
            "Division:        2.0\n"
          ]
        }
      ]
    },
    {
      "cell_type": "markdown",
      "source": [
        "8. Write a program to demonstrate the use of logical operators."
      ],
      "metadata": {
        "id": "tPllrRTvQfTU"
      }
    },
    {
      "cell_type": "code",
      "source": [
        "a = 10\n",
        "b = 5\n",
        "\n",
        "print(\"Logical Operators Example:\\n\")\n",
        "\n",
        "print(a > 5 and b < 10)  # True and True => True\n",
        "print(a < 5 or b < 10)   # False or True => True\n",
        "print(not(a == 10))      # not True => False\n"
      ],
      "metadata": {
        "colab": {
          "base_uri": "https://localhost:8080/"
        },
        "id": "Jp4Iji6cQkQk",
        "outputId": "f6500f68-560e-4558-934d-688ceabf4408"
      },
      "execution_count": 30,
      "outputs": [
        {
          "output_type": "stream",
          "name": "stdout",
          "text": [
            "Logical Operators Example:\n",
            "\n",
            "True\n",
            "True\n",
            "False\n"
          ]
        }
      ]
    },
    {
      "cell_type": "markdown",
      "source": [
        "9. Write a Python program to convert user input from string to integer, float, and boolean types"
      ],
      "metadata": {
        "id": "0v-a_gWKQ3lN"
      }
    },
    {
      "cell_type": "code",
      "source": [
        "\n",
        "value = input(\"Enter a number: \")\n",
        "\n",
        "int_value = int(value)\n",
        "\n",
        "float_value = float(value)\n",
        "\n",
        "\n",
        "bool_value = bool(value)\n",
        "print(\"\\nConverted Values:\")\n",
        "print(\"As Integer:\", int_value)\n",
        "print(\"As Float:  \", float_value)\n",
        "print(\"As Boolean:\", bool_value)\n"
      ],
      "metadata": {
        "colab": {
          "base_uri": "https://localhost:8080/"
        },
        "id": "Cx2jTxTgQ_Am",
        "outputId": "82ec1714-2866-4919-f348-f23d1737282d"
      },
      "execution_count": 32,
      "outputs": [
        {
          "output_type": "stream",
          "name": "stdout",
          "text": [
            "Enter a number: 5\n",
            "\n",
            "Converted Values:\n",
            "As Integer: 5\n",
            "As Float:   5.0\n",
            "As Boolean: True\n"
          ]
        }
      ]
    },
    {
      "cell_type": "markdown",
      "source": [
        "10. Write code to demonstrate type casting with list elements."
      ],
      "metadata": {
        "id": "u31yAJeoSSxJ"
      }
    },
    {
      "cell_type": "code",
      "source": [
        "\n",
        "numbers = [\"1\", \"2\", \"3\", \"4\"]\n",
        "numbers_int = [int(num) for num in numbers]\n",
        "\n",
        "print(\"Original list (strings):\", numbers)\n",
        "print(\"After casting to integers:\", numbers_int)\n"
      ],
      "metadata": {
        "colab": {
          "base_uri": "https://localhost:8080/"
        },
        "id": "EnvsTfoaS2rN",
        "outputId": "49cc765b-2a03-45bc-8dfe-209a635d05f9"
      },
      "execution_count": 33,
      "outputs": [
        {
          "output_type": "stream",
          "name": "stdout",
          "text": [
            "Original list (strings): ['1', '2', '3', '4']\n",
            "After casting to integers: [1, 2, 3, 4]\n"
          ]
        }
      ]
    },
    {
      "cell_type": "markdown",
      "source": [
        "11. Write a program that checks if a number is positive, negative, or zero"
      ],
      "metadata": {
        "id": "pbMXfXtsTBrd"
      }
    },
    {
      "cell_type": "code",
      "source": [
        "\n",
        "numbers = [10, -5, 0]\n",
        "\n",
        "for num in numbers:\n",
        "    print(f\"Checking number: {num}\")\n",
        "    if num > 0:\n",
        "        print(\"The number is positive.\\n\")\n",
        "    elif num < 0:\n",
        "        print(\"The number is negative.\\n\")\n",
        "    else:\n",
        "        print(\"The number is zero.\\n\")\n"
      ],
      "metadata": {
        "colab": {
          "base_uri": "https://localhost:8080/"
        },
        "id": "0GMvYmFkTw9W",
        "outputId": "844a1ce2-464d-4381-8579-78637cd81df5"
      },
      "execution_count": 36,
      "outputs": [
        {
          "output_type": "stream",
          "name": "stdout",
          "text": [
            "Checking number: 10\n",
            "The number is positive.\n",
            "\n",
            "Checking number: -5\n",
            "The number is negative.\n",
            "\n",
            "Checking number: 0\n",
            "The number is zero.\n",
            "\n"
          ]
        }
      ]
    },
    {
      "cell_type": "markdown",
      "source": [
        "12. Write a for loop to print numbers from 1 to 10"
      ],
      "metadata": {
        "id": "ddUsQNB3T1Zg"
      }
    },
    {
      "cell_type": "code",
      "source": [
        "\n",
        "for i in range(1, 11):\n",
        "    print(i)\n"
      ],
      "metadata": {
        "colab": {
          "base_uri": "https://localhost:8080/"
        },
        "id": "MYzo2p9uT6Tn",
        "outputId": "9f8ed7a0-78dc-4e75-e9b1-37090ff769c9"
      },
      "execution_count": 37,
      "outputs": [
        {
          "output_type": "stream",
          "name": "stdout",
          "text": [
            "1\n",
            "2\n",
            "3\n",
            "4\n",
            "5\n",
            "6\n",
            "7\n",
            "8\n",
            "9\n",
            "10\n"
          ]
        }
      ]
    },
    {
      "cell_type": "markdown",
      "source": [
        "13. Write a Python program to find the sum of all even numbers between 1 and 50."
      ],
      "metadata": {
        "id": "tfX-vTZ-URt6"
      }
    },
    {
      "cell_type": "code",
      "source": [
        "\n",
        "sum_even = 0\n",
        "for num in range(1, 51):\n",
        "    if num % 2 == 0:\n",
        "        sum_even += num\n",
        "\n",
        "print(\"Sum of even numbers from 1 to 50 is:\", sum_even)\n"
      ],
      "metadata": {
        "colab": {
          "base_uri": "https://localhost:8080/"
        },
        "id": "BZzQ3So0Ubw2",
        "outputId": "44e7045e-dedf-448a-b2c5-6fbedad41f17"
      },
      "execution_count": 38,
      "outputs": [
        {
          "output_type": "stream",
          "name": "stdout",
          "text": [
            "Sum of even numbers from 1 to 50 is: 650\n"
          ]
        }
      ]
    },
    {
      "cell_type": "markdown",
      "source": [
        "14. Write a program to reverse a string using a while loop"
      ],
      "metadata": {
        "id": "vWEdh7UOUv5b"
      }
    },
    {
      "cell_type": "code",
      "source": [
        "text = \"Python\"\n",
        "reversed_text = \"\"\n",
        "i = len(text) - 1\n",
        "\n",
        "while i >= 0:\n",
        "    reversed_text += text[i]\n",
        "    i -= 1\n",
        "\n",
        "print(\"Reversed string:\", reversed_text)\n"
      ],
      "metadata": {
        "colab": {
          "base_uri": "https://localhost:8080/"
        },
        "id": "mzAQNQqLU0hL",
        "outputId": "f66e260a-9f30-4ea4-9d3e-fce49120f8ac"
      },
      "execution_count": 39,
      "outputs": [
        {
          "output_type": "stream",
          "name": "stdout",
          "text": [
            "Reversed string: nohtyP\n"
          ]
        }
      ]
    },
    {
      "cell_type": "markdown",
      "source": [
        "15. . Write a Python program to calculate the factorial of a number provided by the user using a while loop"
      ],
      "metadata": {
        "id": "xmseaejqVCXA"
      }
    },
    {
      "cell_type": "code",
      "source": [
        "num = int(input(\"Enter a number: \"))\n",
        "fact = 1\n",
        "i = 1\n",
        "\n",
        "while i <= num:\n",
        "    fact *= i\n",
        "    i += 1\n",
        "\n",
        "print(\"Factorial:\", fact)\n"
      ],
      "metadata": {
        "colab": {
          "base_uri": "https://localhost:8080/"
        },
        "id": "1sQO_LpFVLdB",
        "outputId": "6d326dce-2274-406e-a74a-8920d9cc8da4"
      },
      "execution_count": 40,
      "outputs": [
        {
          "output_type": "stream",
          "name": "stdout",
          "text": [
            "Enter a number: 4\n",
            "Factorial: 24\n"
          ]
        }
      ]
    }
  ]
}